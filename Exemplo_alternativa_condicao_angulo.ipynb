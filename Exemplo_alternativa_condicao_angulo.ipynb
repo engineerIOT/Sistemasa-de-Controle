{
 "cells": [
  {
   "cell_type": "code",
   "execution_count": 19,
   "metadata": {},
   "outputs": [],
   "source": [
    "# Exemplo de cálculo alternativo da condição de angulo para determinar o polo do controlador"
   ]
  },
  {
   "cell_type": "code",
   "execution_count": 20,
   "metadata": {},
   "outputs": [],
   "source": [
    "import numpy as np\n",
    "import control\n",
    "import control.matlab\n",
    "import math            \n",
    "import cmath\n",
    "import matplotlib.pyplot as plt"
   ]
  },
  {
   "cell_type": "code",
   "execution_count": 21,
   "metadata": {},
   "outputs": [],
   "source": [
    "# periodo de amostragem\n",
    "T = 0.2;\n",
    "\n",
    "# função de transferência da planta\n",
    "Gp = control.tf(1,[1, 2, 0]);\n",
    "Gz = control.c2d(Gp,T);\n",
    "\n",
    "# polo desejado\n",
    "zeta = 0.5;\n",
    "wn = 4;\n",
    "s1 = -zeta*wn+1j*wn*(1-zeta**2)**.5;\n",
    "z1 = np.exp(s1*T);\n"
   ]
  },
  {
   "cell_type": "code",
   "execution_count": 22,
   "metadata": {},
   "outputs": [
    {
     "name": "stdout",
     "output_type": "stream",
     "text": [
      "1 states have been removed from the model\n"
     ]
    }
   ],
   "source": [
    "# Controlador\n",
    "# Gd(z) = Kc*(z+alfa)/(z+beta)\n",
    "\n",
    "# Função de transferência de laço aberto\n",
    "# FTMA=Gdz*Gz\n",
    "\n",
    "# condição de angulo --> angulo(FTMA)=+-180 graus quando z =z1 \n",
    "# o ganho do controlador não interfere no angulo\n",
    "\n",
    "# dividindo a FTMA de forma diferente\n",
    "# FTMA = G1z*G2z\n",
    "# onde G1z=1/(z+beta)\n",
    "# e G2z=(z+alfa)*Gpz\n",
    "\n",
    "# considalfaerando que o zero do controlador (alfa) cancela um polo da planta\n",
    "polos = control.pole(Gz);\n",
    "alfa = -polos[1];\n",
    "\n",
    "G2z = control.minreal(control.tf([1, alfa],1,T)*Gz);\n",
    "[[n2]],[[d2]] = control.tfdata(G2z);"
   ]
  },
  {
   "cell_type": "code",
   "execution_count": 23,
   "metadata": {},
   "outputs": [],
   "source": [
    "# fi2 é o ângulo de G2z quando z=z1\n",
    "fi2 = np.angle(np.polyval(n2,z1)/np.polyval(d2,z1));\n",
    "\n",
    "# fi1 é o ângulo de G1z quando z=z1\n",
    "fi1 = -np.pi-fi2;\n",
    "beta = (np.imag(z1)-np.real(z1)*np.tan(-fi1))/np.tan(-fi1);"
   ]
  },
  {
   "cell_type": "code",
   "execution_count": 18,
   "metadata": {},
   "outputs": [
    {
     "name": "stdout",
     "output_type": "stream",
     "text": [
      "alfa = \n",
      " -0.6703200460356393\n",
      "beta = \n",
      " -0.2543295952420664\n"
     ]
    }
   ],
   "source": [
    "print(\"alfa = \\n\",alfa)\n",
    "print(\"beta = \\n\",beta)"
   ]
  },
  {
   "cell_type": "code",
   "execution_count": null,
   "metadata": {},
   "outputs": [],
   "source": []
  }
 ],
 "metadata": {
  "kernelspec": {
   "display_name": "Python 3",
   "language": "python",
   "name": "python3"
  },
  "language_info": {
   "codemirror_mode": {
    "name": "ipython",
    "version": 3
   },
   "file_extension": ".py",
   "mimetype": "text/x-python",
   "name": "python",
   "nbconvert_exporter": "python",
   "pygments_lexer": "ipython3",
   "version": "3.7.3"
  }
 },
 "nbformat": 4,
 "nbformat_minor": 2
}
